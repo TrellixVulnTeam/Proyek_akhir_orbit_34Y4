{
 "cells": [
  {
   "cell_type": "code",
   "execution_count": 1,
   "id": "a9dd5b28",
   "metadata": {},
   "outputs": [],
   "source": [
    "import pandas as pd\n",
    "from sklearn.feature_extraction.text import CountVectorizer"
   ]
  },
  {
   "cell_type": "code",
   "execution_count": 2,
   "id": "7c28c33f",
   "metadata": {},
   "outputs": [],
   "source": [
    "import nltk"
   ]
  },
  {
   "cell_type": "markdown",
   "id": "0a555c17",
   "metadata": {},
   "source": [
    "### Data Acqutition"
   ]
  },
  {
   "cell_type": "code",
   "execution_count": 3,
   "id": "682100a1",
   "metadata": {},
   "outputs": [],
   "source": [
    "from nltk.tokenize import word_tokenize"
   ]
  },
  {
   "cell_type": "code",
   "execution_count": 4,
   "id": "2ebf64be",
   "metadata": {},
   "outputs": [],
   "source": [
    "dataframe = pd.read_csv(\"dataset/movie.csv\")"
   ]
  },
  {
   "cell_type": "code",
   "execution_count": 5,
   "id": "c0a3d049",
   "metadata": {},
   "outputs": [
    {
     "data": {
      "text/html": [
       "<div>\n",
       "<style scoped>\n",
       "    .dataframe tbody tr th:only-of-type {\n",
       "        vertical-align: middle;\n",
       "    }\n",
       "\n",
       "    .dataframe tbody tr th {\n",
       "        vertical-align: top;\n",
       "    }\n",
       "\n",
       "    .dataframe thead th {\n",
       "        text-align: right;\n",
       "    }\n",
       "</style>\n",
       "<table border=\"1\" class=\"dataframe\">\n",
       "  <thead>\n",
       "    <tr style=\"text-align: right;\">\n",
       "      <th></th>\n",
       "      <th>{\"{\\\"title\\\":{\\\"0\\\":\\\"toy story\\\"\":{}</th>\n",
       "      <th>1:\\jumanji\\\"\":{}</th>\n",
       "      <th>2:\\grumpier old men\\\"\":{}</th>\n",
       "      <th>3:\\waiting to exhale\\\"\":{}</th>\n",
       "      <th>4:\\father of the bride part ii\\\"\":{}</th>\n",
       "      <th>5:\\heat\\\"\":{}</th>\n",
       "      <th>6:\\sabrina\\\"\":{}</th>\n",
       "      <th>7:\\tom and huck\\\"\":{}</th>\n",
       "      <th>8:\\sudden death\\\"\":{}</th>\n",
       "      <th>9:\\goldeneye\\\"\":{}</th>\n",
       "      <th>...</th>\n",
       "      <th>490:\\in the realm of the senses drama romance eiko_matsuda tatsuya_fuji aoi_nakajima japan jealousy brothel nagisa_\\\\u014dshima\\\"\":{}</th>\n",
       "      <th>491:\\what happened was thriller comedy drama karen_sillas tom_noonan date conversation secretary tom_noonan\\\"\":{}</th>\n",
       "      <th>492:\\much ado about nothing drama comedy romance kenneth_branagh richard_briers michael_keaton shakespeare bachelor new_love kenneth_branagh\\\"\":{}</th>\n",
       "      <th>493:\\mr jones drama romance richard_gere lena_olin anne_bancroft depression therapist symphony mike_figgis\\\"\":{}</th>\n",
       "      <th>494:\\mr wonderful comedy romance matt_dillon annabella_sciorra marylouise_parker professor friendship unfaithfulness anthony_minghella\\\"\":{}</th>\n",
       "      <th>495:\\mrs doubtfire comedy drama family robin_williams sally_field pierce_brosnan san_francisco parent_child_relationship restaurant chris_columbus\\\"\":{}</th>\n",
       "      <th>496:\\naked comedy drama david_thewlis lesley_sharp katrin_cartlidge reference_to_the_book_of_revelation mike_leigh\\\"\":{}</th>\n",
       "      <th>497:\\the next karate kid adventure pat_morita hilary_swank michael_ironside martial_arts becoming_an_adult karate christopher_cain\\\"\":{}</th>\n",
       "      <th>498:\\the new age comedy drama peter_weller judy_davis patrick_bauchau yuppie satire surrealism michael_tolkin\\\"\":{}</th>\n",
       "      <th>499:\\no escape action drama science_fiction ray_liotta lance_henriksen stuart_wilson prison island chase martin_campbell\\\"}}\":{}}</th>\n",
       "    </tr>\n",
       "  </thead>\n",
       "  <tbody>\n",
       "  </tbody>\n",
       "</table>\n",
       "<p>0 rows × 1000 columns</p>\n",
       "</div>"
      ],
      "text/plain": [
       "Empty DataFrame\n",
       "Columns: [{\"{\\\"title\\\":{\\\"0\\\":\\\"toy story\\\"\":{}, 1:\\jumanji\\\"\":{}, 2:\\grumpier old men\\\"\":{}, 3:\\waiting to exhale\\\"\":{}, 4:\\father of the bride part ii\\\"\":{}, 5:\\heat\\\"\":{}, 6:\\sabrina\\\"\":{}, 7:\\tom and huck\\\"\":{}, 8:\\sudden death\\\"\":{}, 9:\\goldeneye\\\"\":{}, 10:\\the american president\\\"\":{}, 11:\\dracula dead and loving it\\\"\":{}, 12:\\balto\\\"\":{}, 13:\\nixon\\\"\":{}, 14:\\cutthroat island\\\"\":{}, 15:\\casino\\\"\":{}, 16:\\sense and sensibility\\\"\":{}, 17:\\four rooms\\\"\":{}, 18:\\ace ventura when nature calls\\\"\":{}, 19:\\money train\\\"\":{}, 20:\\get shorty\\\"\":{}, 21:\\copycat\\\"\":{}, 22:\\assassins\\\"\":{}, 23:\\powder\\\"\":{}, 24:\\leaving las vegas\\\"\":{}, 25:\\othello\\\"\":{}, 26:\\now and then\\\"\":{}, 27:\\persuasion\\\"\":{}, 28:\\the city of lost children\\\"\":{}, 29:\\shanghai triad\\\"\":{}, 30:\\dangerous minds\\\"\":{}, 31:\\twelve monkeys\\\"\":{}, 32:\\wings of courage\\\"\":{}, 33:\\babe\\\"\":{}, 34:\\carrington\\\"\":{}, 35:\\dead man walking\\\"\":{}, 36:\\across the sea of time\\\"\":{}, 37:\\it takes two\\\"\":{}, 38:\\clueless\\\"\":{}, 39:\\cry the beloved country\\\"\":{}, 40:\\richard iii\\\"\":{}, 41:\\dead presidents\\\"\":{}, 42:\\restoration\\\"\":{}, 43:\\mortal kombat\\\"\":{}, 44:\\to die for\\\"\":{}, 45:\\how to make an american quilt\\\"\":{}, 46:\\seen\\\"\":{}, 47:\\pocahontas\\\"\":{}, 48:\\when night is falling\\\"\":{}, 49:\\the usual suspects\\\"\":{}, 50:\\guardian angel\\\"\":{}, 51:\\mighty aphrodite\\\"\":{}, 52:\\lamerica\\\"\":{}, 53:\\the big green\\\"\":{}, 54:\\georgia\\\"\":{}, 55:\\kids of the round table\\\"\":{}, 56:\\home for the holidays\\\"\":{}, 57:\\the postman\\\"\":{}, 58:\\the confessional\\\"\":{}, 59:\\the indian in the cupboard\\\"\":{}, 60:\\eye for an eye\\\"\":{}, 61:\\mr hollands opus\\\"\":{}, 62:\\dont be a menace to south central while drinking your juice in the hood\\\"\":{}, 63:\\two if by sea\\\"\":{}, 64:\\biodome\\\"\":{}, 65:\\lawnmower man  beyond cyberspace\\\"\":{}, 66:\\two bits\\\"\":{}, 67:\\french twist\\\"\":{}, 68:\\friday\\\"\":{}, 69:\\from dusk till dawn\\\"\":{}, 70:\\fair game\\\"\":{}, 71:\\kicking and screaming\\\"\":{}, 72:\\les miserables\\\"\":{}, 73:\\bed of roses\\\"\":{}, 74:\\big bully\\\"\":{}, 75:\\screamers\\\"\":{}, 76:\\nico icon\\\"\":{}, 77:\\the crossing guard\\\"\":{}, 78:\\the juror\\\"\":{}, 79:\\the white balloon\\\"\":{}, 80:\\things to do in denver when youre dead\\\"\":{}, 81:\\antonias line\\\"\":{}, 82:\\once upon a time when we were colored\\\"\":{}, 83:\\last summer in the hamptons\\\"\":{}, 84:\\angels and insects\\\"\":{}, 85:\\white squall\\\"\":{}, 86:\\dunston checks in\\\"\":{}, 87:\\black sheep\\\"\":{}, 88:\\nick of time\\\"\":{}, 89:\\the journey of august king\\\"\":{}, 90:\\mary reilly\\\"\":{}, 91:\\vampire in brooklyn\\\"\":{}, 92:\\beautiful girls\\\"\":{}, 93:\\broken arrow\\\"\":{}, 94:\\a midwinters tale\\\"\":{}, 95:\\la haine\\\"\":{}, 96:\\shopping\\\"\":{}, 97:\\heidi fleiss hollywood madam\\\"\":{}, 98:\\city hall\\\"\":{}, 99:\\bottle rocket\\\"\":{}, ...]\n",
       "Index: []\n",
       "\n",
       "[0 rows x 1000 columns]"
      ]
     },
     "execution_count": 5,
     "metadata": {},
     "output_type": "execute_result"
    }
   ],
   "source": [
    "dataframe.head()"
   ]
  },
  {
   "cell_type": "code",
   "execution_count": 6,
   "id": "193a39e6",
   "metadata": {},
   "outputs": [
    {
     "data": {
      "text/html": [
       "<div>\n",
       "<style scoped>\n",
       "    .dataframe tbody tr th:only-of-type {\n",
       "        vertical-align: middle;\n",
       "    }\n",
       "\n",
       "    .dataframe tbody tr th {\n",
       "        vertical-align: top;\n",
       "    }\n",
       "\n",
       "    .dataframe thead th {\n",
       "        text-align: right;\n",
       "    }\n",
       "</style>\n",
       "<table border=\"1\" class=\"dataframe\">\n",
       "  <thead>\n",
       "    <tr style=\"text-align: right;\">\n",
       "      <th></th>\n",
       "      <th>{\"{\\\"title\\\":{\\\"0\\\":\\\"toy story\\\"\":{}</th>\n",
       "      <th>1:\\jumanji\\\"\":{}</th>\n",
       "      <th>2:\\grumpier old men\\\"\":{}</th>\n",
       "      <th>3:\\waiting to exhale\\\"\":{}</th>\n",
       "      <th>4:\\father of the bride part ii\\\"\":{}</th>\n",
       "      <th>5:\\heat\\\"\":{}</th>\n",
       "      <th>6:\\sabrina\\\"\":{}</th>\n",
       "      <th>7:\\tom and huck\\\"\":{}</th>\n",
       "      <th>8:\\sudden death\\\"\":{}</th>\n",
       "      <th>9:\\goldeneye\\\"\":{}</th>\n",
       "      <th>...</th>\n",
       "      <th>490:\\in the realm of the senses drama romance eiko_matsuda tatsuya_fuji aoi_nakajima japan jealousy brothel nagisa_\\\\u014dshima\\\"\":{}</th>\n",
       "      <th>491:\\what happened was thriller comedy drama karen_sillas tom_noonan date conversation secretary tom_noonan\\\"\":{}</th>\n",
       "      <th>492:\\much ado about nothing drama comedy romance kenneth_branagh richard_briers michael_keaton shakespeare bachelor new_love kenneth_branagh\\\"\":{}</th>\n",
       "      <th>493:\\mr jones drama romance richard_gere lena_olin anne_bancroft depression therapist symphony mike_figgis\\\"\":{}</th>\n",
       "      <th>494:\\mr wonderful comedy romance matt_dillon annabella_sciorra marylouise_parker professor friendship unfaithfulness anthony_minghella\\\"\":{}</th>\n",
       "      <th>495:\\mrs doubtfire comedy drama family robin_williams sally_field pierce_brosnan san_francisco parent_child_relationship restaurant chris_columbus\\\"\":{}</th>\n",
       "      <th>496:\\naked comedy drama david_thewlis lesley_sharp katrin_cartlidge reference_to_the_book_of_revelation mike_leigh\\\"\":{}</th>\n",
       "      <th>497:\\the next karate kid adventure pat_morita hilary_swank michael_ironside martial_arts becoming_an_adult karate christopher_cain\\\"\":{}</th>\n",
       "      <th>498:\\the new age comedy drama peter_weller judy_davis patrick_bauchau yuppie satire surrealism michael_tolkin\\\"\":{}</th>\n",
       "      <th>499:\\no escape action drama science_fiction ray_liotta lance_henriksen stuart_wilson prison island chase martin_campbell\\\"}}\":{}}</th>\n",
       "    </tr>\n",
       "  </thead>\n",
       "  <tbody>\n",
       "  </tbody>\n",
       "</table>\n",
       "<p>0 rows × 1000 columns</p>\n",
       "</div>"
      ],
      "text/plain": [
       "Empty DataFrame\n",
       "Columns: [{\"{\\\"title\\\":{\\\"0\\\":\\\"toy story\\\"\":{}, 1:\\jumanji\\\"\":{}, 2:\\grumpier old men\\\"\":{}, 3:\\waiting to exhale\\\"\":{}, 4:\\father of the bride part ii\\\"\":{}, 5:\\heat\\\"\":{}, 6:\\sabrina\\\"\":{}, 7:\\tom and huck\\\"\":{}, 8:\\sudden death\\\"\":{}, 9:\\goldeneye\\\"\":{}, 10:\\the american president\\\"\":{}, 11:\\dracula dead and loving it\\\"\":{}, 12:\\balto\\\"\":{}, 13:\\nixon\\\"\":{}, 14:\\cutthroat island\\\"\":{}, 15:\\casino\\\"\":{}, 16:\\sense and sensibility\\\"\":{}, 17:\\four rooms\\\"\":{}, 18:\\ace ventura when nature calls\\\"\":{}, 19:\\money train\\\"\":{}, 20:\\get shorty\\\"\":{}, 21:\\copycat\\\"\":{}, 22:\\assassins\\\"\":{}, 23:\\powder\\\"\":{}, 24:\\leaving las vegas\\\"\":{}, 25:\\othello\\\"\":{}, 26:\\now and then\\\"\":{}, 27:\\persuasion\\\"\":{}, 28:\\the city of lost children\\\"\":{}, 29:\\shanghai triad\\\"\":{}, 30:\\dangerous minds\\\"\":{}, 31:\\twelve monkeys\\\"\":{}, 32:\\wings of courage\\\"\":{}, 33:\\babe\\\"\":{}, 34:\\carrington\\\"\":{}, 35:\\dead man walking\\\"\":{}, 36:\\across the sea of time\\\"\":{}, 37:\\it takes two\\\"\":{}, 38:\\clueless\\\"\":{}, 39:\\cry the beloved country\\\"\":{}, 40:\\richard iii\\\"\":{}, 41:\\dead presidents\\\"\":{}, 42:\\restoration\\\"\":{}, 43:\\mortal kombat\\\"\":{}, 44:\\to die for\\\"\":{}, 45:\\how to make an american quilt\\\"\":{}, 46:\\seen\\\"\":{}, 47:\\pocahontas\\\"\":{}, 48:\\when night is falling\\\"\":{}, 49:\\the usual suspects\\\"\":{}, 50:\\guardian angel\\\"\":{}, 51:\\mighty aphrodite\\\"\":{}, 52:\\lamerica\\\"\":{}, 53:\\the big green\\\"\":{}, 54:\\georgia\\\"\":{}, 55:\\kids of the round table\\\"\":{}, 56:\\home for the holidays\\\"\":{}, 57:\\the postman\\\"\":{}, 58:\\the confessional\\\"\":{}, 59:\\the indian in the cupboard\\\"\":{}, 60:\\eye for an eye\\\"\":{}, 61:\\mr hollands opus\\\"\":{}, 62:\\dont be a menace to south central while drinking your juice in the hood\\\"\":{}, 63:\\two if by sea\\\"\":{}, 64:\\biodome\\\"\":{}, 65:\\lawnmower man  beyond cyberspace\\\"\":{}, 66:\\two bits\\\"\":{}, 67:\\french twist\\\"\":{}, 68:\\friday\\\"\":{}, 69:\\from dusk till dawn\\\"\":{}, 70:\\fair game\\\"\":{}, 71:\\kicking and screaming\\\"\":{}, 72:\\les miserables\\\"\":{}, 73:\\bed of roses\\\"\":{}, 74:\\big bully\\\"\":{}, 75:\\screamers\\\"\":{}, 76:\\nico icon\\\"\":{}, 77:\\the crossing guard\\\"\":{}, 78:\\the juror\\\"\":{}, 79:\\the white balloon\\\"\":{}, 80:\\things to do in denver when youre dead\\\"\":{}, 81:\\antonias line\\\"\":{}, 82:\\once upon a time when we were colored\\\"\":{}, 83:\\last summer in the hamptons\\\"\":{}, 84:\\angels and insects\\\"\":{}, 85:\\white squall\\\"\":{}, 86:\\dunston checks in\\\"\":{}, 87:\\black sheep\\\"\":{}, 88:\\nick of time\\\"\":{}, 89:\\the journey of august king\\\"\":{}, 90:\\mary reilly\\\"\":{}, 91:\\vampire in brooklyn\\\"\":{}, 92:\\beautiful girls\\\"\":{}, 93:\\broken arrow\\\"\":{}, 94:\\a midwinters tale\\\"\":{}, 95:\\la haine\\\"\":{}, 96:\\shopping\\\"\":{}, 97:\\heidi fleiss hollywood madam\\\"\":{}, 98:\\city hall\\\"\":{}, 99:\\bottle rocket\\\"\":{}, ...]\n",
       "Index: []\n",
       "\n",
       "[0 rows x 1000 columns]"
      ]
     },
     "execution_count": 6,
     "metadata": {},
     "output_type": "execute_result"
    }
   ],
   "source": [
    "dataframe"
   ]
  },
  {
   "cell_type": "code",
   "execution_count": 7,
   "id": "5af5d11c",
   "metadata": {},
   "outputs": [
    {
     "ename": "KeyError",
     "evalue": "'title'",
     "output_type": "error",
     "traceback": [
      "\u001b[1;31m---------------------------------------------------------------------------\u001b[0m",
      "\u001b[1;31mKeyError\u001b[0m                                  Traceback (most recent call last)",
      "\u001b[1;32mD:\\anaconda3\\lib\\site-packages\\pandas\\core\\indexes\\base.py\u001b[0m in \u001b[0;36mget_loc\u001b[1;34m(self, key, method, tolerance)\u001b[0m\n\u001b[0;32m   3360\u001b[0m             \u001b[1;32mtry\u001b[0m\u001b[1;33m:\u001b[0m\u001b[1;33m\u001b[0m\u001b[1;33m\u001b[0m\u001b[0m\n\u001b[1;32m-> 3361\u001b[1;33m                 \u001b[1;32mreturn\u001b[0m \u001b[0mself\u001b[0m\u001b[1;33m.\u001b[0m\u001b[0m_engine\u001b[0m\u001b[1;33m.\u001b[0m\u001b[0mget_loc\u001b[0m\u001b[1;33m(\u001b[0m\u001b[0mcasted_key\u001b[0m\u001b[1;33m)\u001b[0m\u001b[1;33m\u001b[0m\u001b[1;33m\u001b[0m\u001b[0m\n\u001b[0m\u001b[0;32m   3362\u001b[0m             \u001b[1;32mexcept\u001b[0m \u001b[0mKeyError\u001b[0m \u001b[1;32mas\u001b[0m \u001b[0merr\u001b[0m\u001b[1;33m:\u001b[0m\u001b[1;33m\u001b[0m\u001b[1;33m\u001b[0m\u001b[0m\n",
      "\u001b[1;32mD:\\anaconda3\\lib\\site-packages\\pandas\\_libs\\index.pyx\u001b[0m in \u001b[0;36mpandas._libs.index.IndexEngine.get_loc\u001b[1;34m()\u001b[0m\n",
      "\u001b[1;32mD:\\anaconda3\\lib\\site-packages\\pandas\\_libs\\index.pyx\u001b[0m in \u001b[0;36mpandas._libs.index.IndexEngine.get_loc\u001b[1;34m()\u001b[0m\n",
      "\u001b[1;32mpandas\\_libs\\hashtable_class_helper.pxi\u001b[0m in \u001b[0;36mpandas._libs.hashtable.PyObjectHashTable.get_item\u001b[1;34m()\u001b[0m\n",
      "\u001b[1;32mpandas\\_libs\\hashtable_class_helper.pxi\u001b[0m in \u001b[0;36mpandas._libs.hashtable.PyObjectHashTable.get_item\u001b[1;34m()\u001b[0m\n",
      "\u001b[1;31mKeyError\u001b[0m: 'title'",
      "\nThe above exception was the direct cause of the following exception:\n",
      "\u001b[1;31mKeyError\u001b[0m                                  Traceback (most recent call last)",
      "\u001b[1;32m~\\AppData\\Local\\Temp/ipykernel_4324/601346076.py\u001b[0m in \u001b[0;36m<module>\u001b[1;34m\u001b[0m\n\u001b[1;32m----> 1\u001b[1;33m \u001b[0mdataframe\u001b[0m\u001b[1;33m[\u001b[0m\u001b[1;34m\"metadata\"\u001b[0m\u001b[1;33m]\u001b[0m\u001b[1;33m=\u001b[0m\u001b[0mdataframe\u001b[0m\u001b[1;33m[\u001b[0m\u001b[1;34m\"title\"\u001b[0m\u001b[1;33m]\u001b[0m\u001b[1;33m.\u001b[0m\u001b[0mstr\u001b[0m\u001b[1;33m.\u001b[0m\u001b[0mcat\u001b[0m\u001b[1;33m(\u001b[0m\u001b[0mdataframe\u001b[0m\u001b[1;33m[\u001b[0m\u001b[1;34m\"metadata\"\u001b[0m\u001b[1;33m]\u001b[0m\u001b[1;33m,\u001b[0m \u001b[0msep\u001b[0m\u001b[1;33m=\u001b[0m\u001b[1;34m\", \"\u001b[0m\u001b[1;33m)\u001b[0m\u001b[1;33m.\u001b[0m\u001b[0mto_frame\u001b[0m\u001b[1;33m(\u001b[0m\u001b[1;33m)\u001b[0m\u001b[1;33m\u001b[0m\u001b[1;33m\u001b[0m\u001b[0m\n\u001b[0m\u001b[0;32m      2\u001b[0m \u001b[0mdataframe\u001b[0m \u001b[1;33m=\u001b[0m \u001b[0mdataframe\u001b[0m\u001b[1;33m[\u001b[0m\u001b[1;33m[\u001b[0m\u001b[1;34m\"title\"\u001b[0m\u001b[1;33m,\u001b[0m \u001b[1;34m\"metadata\"\u001b[0m\u001b[1;33m]\u001b[0m\u001b[1;33m]\u001b[0m\u001b[1;33m[\u001b[0m\u001b[1;36m0\u001b[0m\u001b[1;33m:\u001b[0m\u001b[1;36m500\u001b[0m\u001b[1;33m]\u001b[0m\u001b[1;33m\u001b[0m\u001b[1;33m\u001b[0m\u001b[0m\n",
      "\u001b[1;32mD:\\anaconda3\\lib\\site-packages\\pandas\\core\\frame.py\u001b[0m in \u001b[0;36m__getitem__\u001b[1;34m(self, key)\u001b[0m\n\u001b[0;32m   3456\u001b[0m             \u001b[1;32mif\u001b[0m \u001b[0mself\u001b[0m\u001b[1;33m.\u001b[0m\u001b[0mcolumns\u001b[0m\u001b[1;33m.\u001b[0m\u001b[0mnlevels\u001b[0m \u001b[1;33m>\u001b[0m \u001b[1;36m1\u001b[0m\u001b[1;33m:\u001b[0m\u001b[1;33m\u001b[0m\u001b[1;33m\u001b[0m\u001b[0m\n\u001b[0;32m   3457\u001b[0m                 \u001b[1;32mreturn\u001b[0m \u001b[0mself\u001b[0m\u001b[1;33m.\u001b[0m\u001b[0m_getitem_multilevel\u001b[0m\u001b[1;33m(\u001b[0m\u001b[0mkey\u001b[0m\u001b[1;33m)\u001b[0m\u001b[1;33m\u001b[0m\u001b[1;33m\u001b[0m\u001b[0m\n\u001b[1;32m-> 3458\u001b[1;33m             \u001b[0mindexer\u001b[0m \u001b[1;33m=\u001b[0m \u001b[0mself\u001b[0m\u001b[1;33m.\u001b[0m\u001b[0mcolumns\u001b[0m\u001b[1;33m.\u001b[0m\u001b[0mget_loc\u001b[0m\u001b[1;33m(\u001b[0m\u001b[0mkey\u001b[0m\u001b[1;33m)\u001b[0m\u001b[1;33m\u001b[0m\u001b[1;33m\u001b[0m\u001b[0m\n\u001b[0m\u001b[0;32m   3459\u001b[0m             \u001b[1;32mif\u001b[0m \u001b[0mis_integer\u001b[0m\u001b[1;33m(\u001b[0m\u001b[0mindexer\u001b[0m\u001b[1;33m)\u001b[0m\u001b[1;33m:\u001b[0m\u001b[1;33m\u001b[0m\u001b[1;33m\u001b[0m\u001b[0m\n\u001b[0;32m   3460\u001b[0m                 \u001b[0mindexer\u001b[0m \u001b[1;33m=\u001b[0m \u001b[1;33m[\u001b[0m\u001b[0mindexer\u001b[0m\u001b[1;33m]\u001b[0m\u001b[1;33m\u001b[0m\u001b[1;33m\u001b[0m\u001b[0m\n",
      "\u001b[1;32mD:\\anaconda3\\lib\\site-packages\\pandas\\core\\indexes\\base.py\u001b[0m in \u001b[0;36mget_loc\u001b[1;34m(self, key, method, tolerance)\u001b[0m\n\u001b[0;32m   3361\u001b[0m                 \u001b[1;32mreturn\u001b[0m \u001b[0mself\u001b[0m\u001b[1;33m.\u001b[0m\u001b[0m_engine\u001b[0m\u001b[1;33m.\u001b[0m\u001b[0mget_loc\u001b[0m\u001b[1;33m(\u001b[0m\u001b[0mcasted_key\u001b[0m\u001b[1;33m)\u001b[0m\u001b[1;33m\u001b[0m\u001b[1;33m\u001b[0m\u001b[0m\n\u001b[0;32m   3362\u001b[0m             \u001b[1;32mexcept\u001b[0m \u001b[0mKeyError\u001b[0m \u001b[1;32mas\u001b[0m \u001b[0merr\u001b[0m\u001b[1;33m:\u001b[0m\u001b[1;33m\u001b[0m\u001b[1;33m\u001b[0m\u001b[0m\n\u001b[1;32m-> 3363\u001b[1;33m                 \u001b[1;32mraise\u001b[0m \u001b[0mKeyError\u001b[0m\u001b[1;33m(\u001b[0m\u001b[0mkey\u001b[0m\u001b[1;33m)\u001b[0m \u001b[1;32mfrom\u001b[0m \u001b[0merr\u001b[0m\u001b[1;33m\u001b[0m\u001b[1;33m\u001b[0m\u001b[0m\n\u001b[0m\u001b[0;32m   3364\u001b[0m \u001b[1;33m\u001b[0m\u001b[0m\n\u001b[0;32m   3365\u001b[0m         \u001b[1;32mif\u001b[0m \u001b[0mis_scalar\u001b[0m\u001b[1;33m(\u001b[0m\u001b[0mkey\u001b[0m\u001b[1;33m)\u001b[0m \u001b[1;32mand\u001b[0m \u001b[0misna\u001b[0m\u001b[1;33m(\u001b[0m\u001b[0mkey\u001b[0m\u001b[1;33m)\u001b[0m \u001b[1;32mand\u001b[0m \u001b[1;32mnot\u001b[0m \u001b[0mself\u001b[0m\u001b[1;33m.\u001b[0m\u001b[0mhasnans\u001b[0m\u001b[1;33m:\u001b[0m\u001b[1;33m\u001b[0m\u001b[1;33m\u001b[0m\u001b[0m\n",
      "\u001b[1;31mKeyError\u001b[0m: 'title'"
     ]
    }
   ],
   "source": [
    "dataframe[\"metadata\"]=dataframe[\"title\"].str.cat(dataframe[\"metadata\"], sep=\", \").to_frame()\n",
    "dataframe = dataframe[[\"title\", \"metadata\"]][0:500]"
   ]
  },
  {
   "cell_type": "code",
   "execution_count": null,
   "id": "1be32e3b",
   "metadata": {},
   "outputs": [],
   "source": [
    "dataframe.info()"
   ]
  },
  {
   "cell_type": "markdown",
   "id": "51f209e1",
   "metadata": {},
   "source": [
    "### Data Preprocessing"
   ]
  },
  {
   "cell_type": "code",
   "execution_count": null,
   "id": "089c9dab",
   "metadata": {},
   "outputs": [],
   "source": [
    "import joblib"
   ]
  },
  {
   "cell_type": "code",
   "execution_count": null,
   "id": "4e4880a8",
   "metadata": {},
   "outputs": [],
   "source": [
    "import re\n",
    "\n",
    "def text_preprocessing(text):\n",
    "    text = str(text).lower()\n",
    "    text = re.sub(r'https?://\\S+|www\\.\\S+', '', text)\n",
    "    text = re.sub(r'[-+]?[0-9]+', '', text)\n",
    "    text = re.sub(r'[^\\w\\s]','', text) \n",
    "    text = text.strip()\n",
    "    return text"
   ]
  },
  {
   "cell_type": "code",
   "execution_count": null,
   "id": "800c1822",
   "metadata": {},
   "outputs": [],
   "source": [
    "dataframe[\"metadata\"] = dataframe[\"metadata\"].apply(text_preprocessing)\n",
    "dataframe[\"title\"] = dataframe[\"title\"].apply(text_preprocessing)"
   ]
  },
  {
   "cell_type": "code",
   "execution_count": null,
   "id": "05d425ca",
   "metadata": {},
   "outputs": [],
   "source": [
    "dataframe"
   ]
  },
  {
   "cell_type": "code",
   "execution_count": null,
   "id": "aae5f1e3",
   "metadata": {},
   "outputs": [],
   "source": [
    "dataframe.dropna(inplace=True)"
   ]
  },
  {
   "cell_type": "code",
   "execution_count": null,
   "id": "b04cf509",
   "metadata": {},
   "outputs": [],
   "source": [
    "dataframe.isna().sum()"
   ]
  },
  {
   "cell_type": "code",
   "execution_count": null,
   "id": "f2bff8d6",
   "metadata": {},
   "outputs": [],
   "source": [
    "dataframe[\"title\"][0]"
   ]
  },
  {
   "cell_type": "code",
   "execution_count": null,
   "id": "ea6ac275",
   "metadata": {},
   "outputs": [],
   "source": [
    "from sklearn.metrics.pairwise import cosine_similarity"
   ]
  },
  {
   "cell_type": "markdown",
   "id": "4b1261d7",
   "metadata": {},
   "source": [
    "### Modelling Content Based Filtering"
   ]
  },
  {
   "cell_type": "code",
   "execution_count": null,
   "id": "50ac4cfd",
   "metadata": {},
   "outputs": [],
   "source": [
    "cv = CountVectorizer(max_features=10, stop_words='english')"
   ]
  },
  {
   "cell_type": "code",
   "execution_count": null,
   "id": "af2a977f",
   "metadata": {},
   "outputs": [],
   "source": [
    "vektors = cv.fit_transform(dataframe[\"metadata\"]).toarray()"
   ]
  },
  {
   "cell_type": "code",
   "execution_count": null,
   "id": "d21ea3fa",
   "metadata": {},
   "outputs": [],
   "source": [
    "vektors"
   ]
  },
  {
   "cell_type": "code",
   "execution_count": null,
   "id": "b782bef7",
   "metadata": {},
   "outputs": [],
   "source": [
    "vektors[0]"
   ]
  },
  {
   "cell_type": "code",
   "execution_count": null,
   "id": "f8417df7",
   "metadata": {},
   "outputs": [],
   "source": [
    "cv.get_feature_names()"
   ]
  },
  {
   "cell_type": "code",
   "execution_count": null,
   "id": "17efaf61",
   "metadata": {},
   "outputs": [],
   "source": [
    "from sklearn.metrics.pairwise import cosine_similarity"
   ]
  },
  {
   "cell_type": "code",
   "execution_count": null,
   "id": "9c07a0a5",
   "metadata": {},
   "outputs": [],
   "source": [
    "similiaryty = cosine_similarity(vektors)"
   ]
  },
  {
   "cell_type": "code",
   "execution_count": null,
   "id": "1c83db36",
   "metadata": {},
   "outputs": [],
   "source": [
    "def recommended(movie):\n",
    "    movie_index = dataframe[dataframe[\"title\"] == movie].index[0]\n",
    "    distances = similiaryty[movie_index]\n",
    "    movies_list = sorted(list(enumerate(distances)), reverse=True, key=lambda x:x[1])[1:6]\n",
    "    \n",
    "    for i in movies_list:\n",
    "        print(dataframe.iloc[i[0]].title)"
   ]
  },
  {
   "cell_type": "code",
   "execution_count": null,
   "id": "07cd15c1",
   "metadata": {},
   "outputs": [],
   "source": [
    "recommended(\"balto\")"
   ]
  },
  {
   "cell_type": "code",
   "execution_count": null,
   "id": "2214d940",
   "metadata": {},
   "outputs": [],
   "source": [
    "joblib.dump((recommended), \"mba_recommended.pkl\")"
   ]
  },
  {
   "cell_type": "code",
   "execution_count": null,
   "id": "04fc5adc",
   "metadata": {},
   "outputs": [],
   "source": [
    "predict=joblib.load(\"mba_recommended.pkl\")"
   ]
  },
  {
   "cell_type": "code",
   "execution_count": null,
   "id": "af683301",
   "metadata": {},
   "outputs": [],
   "source": [
    "predict "
   ]
  },
  {
   "cell_type": "code",
   "execution_count": null,
   "id": "45a561be",
   "metadata": {},
   "outputs": [],
   "source": [
    "predict(\"balto\")"
   ]
  },
  {
   "cell_type": "code",
   "execution_count": null,
   "id": "5ba52333",
   "metadata": {},
   "outputs": [],
   "source": []
  }
 ],
 "metadata": {
  "interpreter": {
   "hash": "ce2064acf4ef97403f217f57760e596adda0e83a065119a668ae553de3dd133f"
  },
  "kernelspec": {
   "display_name": "Python 3 (ipykernel)",
   "language": "python",
   "name": "python3"
  },
  "language_info": {
   "codemirror_mode": {
    "name": "ipython",
    "version": 3
   },
   "file_extension": ".py",
   "mimetype": "text/x-python",
   "name": "python",
   "nbconvert_exporter": "python",
   "pygments_lexer": "ipython3",
   "version": "3.8.8"
  }
 },
 "nbformat": 4,
 "nbformat_minor": 5
}
